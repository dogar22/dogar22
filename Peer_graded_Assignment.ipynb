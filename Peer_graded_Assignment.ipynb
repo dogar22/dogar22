{
  "nbformat": 4,
  "nbformat_minor": 0,
  "metadata": {
    "colab": {
      "provenance": [],
      "authorship_tag": "ABX9TyMgQANLaOZ6kDnuKYNH7cmH",
      "include_colab_link": true
    },
    "kernelspec": {
      "name": "python3",
      "display_name": "Python 3"
    },
    "language_info": {
      "name": "python"
    }
  },
  "cells": [
    {
      "cell_type": "markdown",
      "metadata": {
        "id": "view-in-github",
        "colab_type": "text"
      },
      "source": [
        "<a href=\"https://colab.research.google.com/github/dogar22/dogar22/blob/main/Peer_graded_Assignment.ipynb\" target=\"_parent\"><img src=\"https://colab.research.google.com/assets/colab-badge.svg\" alt=\"Open In Colab\"/></a>"
      ]
    },
    {
      "cell_type": "markdown",
      "source": [
        "**Exercise 2**\n",
        "- Create a markdown cell with the title of the notebook. (1 pt)"
      ],
      "metadata": {
        "id": "UVYC7VVcJvNC"
      }
    },
    {
      "cell_type": "markdown",
      "source": [
        "**Peer_graded Assignment**\n",
        "\n",
        "\n"
      ],
      "metadata": {
        "id": "NTN5OngmKcQI"
      }
    },
    {
      "cell_type": "markdown",
      "source": [
        "## **Introduction**\n",
        "Welcome to this exercise! In this notebook, we will explore various concepts and techniques related to data analysis and machine learning.\n",
        "This exercise is designed to help you practice and apply your skills in a structured manner. Let's get started!\n"
      ],
      "metadata": {
        "id": "JAoOMXGvKySr"
      }
    },
    {
      "cell_type": "markdown",
      "source": [
        "# **Data Science Languages**\n",
        "Here are some popular programming languages used in Data Science:\n",
        "\n",
        "- **Python** 🐍 – Most widely used for machine learning, data analysis, and AI.\n",
        "- **R** 📊 – Excellent for statistical computing and visualization.\n",
        "- **SQL** 💾 – Essential for database queries and data manipulation.\n",
        "- **Julia** 🚀 – High-performance language for numerical computing.\n",
        "- **Scala** 🔥 – Used with Apache Spark for big data processing.\n",
        "- **Java** ☕ – Often used in enterprise data science applications.\n",
        "\n",
        "Each of these languages has its strengths, and choosing the right one depends on the project requirements!\n"
      ],
      "metadata": {
        "id": "rXe9Cke7N1t4"
      }
    },
    {
      "cell_type": "markdown",
      "source": [
        "# **Data Science Libraries**\n",
        "Here are some of the most commonly used libraries in Data Science:\n",
        "\n",
        "## **1. Python Libraries**\n",
        "- **NumPy** – For numerical computations and array operations.\n",
        "- **Pandas** – For data manipulation and analysis.\n",
        "- **Matplotlib** – For data visualization.\n",
        "- **Seaborn** – Enhances Matplotlib for statistical visualizations.\n",
        "- **Scikit-learn** – For machine learning algorithms.\n",
        "- **TensorFlow** – For deep learning and neural networks.\n",
        "- **PyTorch** – An alternative deep learning framework.\n",
        "- **Statsmodels** – For statistical modeling and hypothesis testing.\n",
        "\n",
        "## **2. R Libraries**\n",
        "- **ggplot2** – For advanced data visualization.\n",
        "- **dplyr** – For data manipulation.\n",
        "- **caret** – For machine learning.\n",
        "- **randomForest** – For decision trees and ensemble learning.\n",
        "\n",
        "## **3. Big Data & SQL Libraries**\n",
        "- **Apache Spark (PySpark)** – For large-scale data processing.\n",
        "- **SQLAlchemy** – For working with SQL databases.\n",
        "\n",
        "These libraries provide powerful tools for data analysis, visualization, and machine learning!\n"
      ],
      "metadata": {
        "id": "M_RYVoCCO3Dd"
      }
    },
    {
      "cell_type": "markdown",
      "source": [
        "# **Data Science Tools**\n",
        "\n",
        "The table below lists some popular tools used in Data Science:\n",
        "\n",
        "| **Tool Name**        | **Category**               | **Description** |\n",
        "|----------------------|---------------------------|----------------|\n",
        "| **Jupyter Notebook** | Interactive Computing     | Web-based notebook for coding and visualization. |\n",
        "| **Google Colab**     | Cloud-Based Development   | Free cloud-based Jupyter notebook with GPU support. |\n",
        "| **Apache Spark**     | Big Data Processing       | Distributed data processing framework. |\n",
        "| **TensorFlow**       | Machine Learning          | Deep learning framework developed by Google. |\n",
        "| **PyTorch**          | Machine Learning          | Deep learning framework developed by Facebook. |\n",
        "| **Power BI**         | Data Visualization        | Business analytics tool for interactive reports. |\n",
        "| **Tableau**         | Data Visualization        | Powerful tool for creating visual dashboards. |\n",
        "| **SQL**             | Database Management       | Used for querying and managing structured data. |\n",
        "| **GitHub**          | Version Control           | Platform for code hosting and collaboration. |\n",
        "\n",
        "These tools play a crucial role in different stages of the **Data Science workflow**, from data collection to visualization and machine learning.\n"
      ],
      "metadata": {
        "id": "sxglmvVCP8c6"
      }
    },
    {
      "cell_type": "markdown",
      "source": [
        "# **Arithmetic Expression Examples**  \n",
        "\n",
        "Arithmetic expressions are mathematical expressions that use numbers and operators to perform calculations. The basic arithmetic operations include:\n",
        "\n",
        "- **Addition (`+`)**: Combines two numbers.  \n",
        "- **Subtraction (`-`)**: Finds the difference between two numbers.  \n",
        "- **Multiplication (`*`)**: Multiplies two numbers.  \n",
        "- **Division (`/`)**: Divides one number by another.  \n",
        "- **Modulus (`%`)**: Finds the remainder of division.  \n",
        "- **Exponentiation (`**`)**: Raises a number to a power.  \n",
        "\n",
        "### **Examples**  \n",
        "Here are some examples of arithmetic expressions:  \n",
        "\n",
        "```python\n",
        "# Addition\n",
        "5 + 3  # Output: 8\n",
        "\n",
        "# Subtraction\n",
        "10 - 4  # Output: 6\n",
        "\n",
        "# Multiplication\n",
        "6 * 7  # Output: 42\n",
        "\n",
        "# Division\n",
        "20 / 4  # Output: 5.0\n",
        "\n",
        "# Modulus\n",
        "10 % 3  # Output: 1\n",
        "\n",
        "# Exponentiation\n",
        "2 ** 3  # Output: 8\n",
        "\n",
        "\n"
      ],
      "metadata": {
        "id": "BB0pU1HTSk7i"
      }
    },
    {
      "cell_type": "code",
      "source": [
        "# Multiply and Add Numbers\n",
        "\n",
        "# Define numbers\n",
        "a = 5\n",
        "b = 3\n",
        "\n",
        "# Perform multiplication\n",
        "multiplication_result = a * b\n",
        "\n",
        "# Perform addition\n",
        "addition_result = a + b\n",
        "\n",
        "# Print results\n",
        "print(f\"Multiplication of {a} and {b}: {multiplication_result}\")\n",
        "print(f\"Addition of {a} and {b}: {addition_result}\")\n"
      ],
      "metadata": {
        "colab": {
          "base_uri": "https://localhost:8080/"
        },
        "id": "03aLAZz8SzFH",
        "outputId": "2f20aef8-43aa-46ce-94b1-6077e874520f"
      },
      "execution_count": 1,
      "outputs": [
        {
          "output_type": "stream",
          "name": "stdout",
          "text": [
            "Multiplication of 5 and 3: 15\n",
            "Addition of 5 and 3: 8\n"
          ]
        }
      ]
    },
    {
      "cell_type": "code",
      "source": [
        "# Convert Minutes to Hours\n",
        "\n",
        "\n",
        "minutes = 150\n",
        "\n",
        "# Convert to hours\n",
        "hours = minutes / 60\n",
        "\n",
        "# Print the result\n",
        "print(f\"{minutes} minutes is equal to {hours:.2f} hours.\")\n"
      ],
      "metadata": {
        "colab": {
          "base_uri": "https://localhost:8080/"
        },
        "id": "BWFGDEDnTXgQ",
        "outputId": "ce796612-198a-43fa-fd1c-403ffdcf4917"
      },
      "execution_count": 2,
      "outputs": [
        {
          "output_type": "stream",
          "name": "stdout",
          "text": [
            "150 minutes is equal to 2.50 hours.\n"
          ]
        }
      ]
    },
    {
      "cell_type": "markdown",
      "source": [
        "# **Objectives**  \n",
        "\n",
        "The following are the key objectives of this notebook:  \n",
        "\n",
        "- **Understand Data Science Basics** – Learn about essential tools, languages, and libraries.  \n",
        "- **Practice Arithmetic Operations** – Implement fundamental mathematical expressions in Python.  \n",
        "- **Convert Time Units** – Write code to convert minutes to hours.  \n",
        "- **Enhance Markdown Usage** – Learn how to structure text, lists, and tables effectively.  \n",
        "- **Improve Problem-Solving Skills** – Solve exercises related to data manipulation and calculations.  \n",
        "\n",
        "These objectives will help in building a strong foundation in programming and data science! 🚀  \n"
      ],
      "metadata": {
        "id": "DbQF38CNT7LR"
      }
    },
    {
      "cell_type": "markdown",
      "source": [
        "# **Author**  \n",
        "**Name:** Muhammad Umar\n",
        "\n",
        "**Date:** 03/17/2025  \n",
        "\n",
        "This notebook was created by **Umar Dogar** as part of the exercises in Data Science.  \n"
      ],
      "metadata": {
        "id": "FPg2NA11UTCQ"
      }
    },
    {
      "cell_type": "code",
      "source": [],
      "metadata": {
        "id": "valvlQsWU_pt"
      },
      "execution_count": null,
      "outputs": []
    }
  ]
}